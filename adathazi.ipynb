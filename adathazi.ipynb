{
    "metadata": {
        "kernelspec": {
            "name": "SQL",
            "display_name": "SQL",
            "language": "sql"
        },
        "language_info": {
            "name": "sql",
            "version": ""
        }
    },
    "nbformat_minor": 2,
    "nbformat": 4,
    "cells": [
        {
            "cell_type": "code",
            "source": [
                "-- rendelések száma\n",
                "\n",
                "SELECT COUNT(SORSZAM) AS 'Rendelések száma'\n",
                "FROM Rendeles"
            ],
            "metadata": {
                "azdata_cell_guid": "cf324394-6a44-4037-8ea1-1c0a0058c6ff",
                "language": "sql",
                "tags": []
            },
            "outputs": [
                {
                    "output_type": "display_data",
                    "data": {
                        "text/html": "(1 row affected)"
                    },
                    "metadata": {}
                },
                {
                    "output_type": "display_data",
                    "data": {
                        "text/html": "Total execution time: 00:00:00.054"
                    },
                    "metadata": {}
                },
                {
                    "output_type": "execute_result",
                    "execution_count": 10,
                    "data": {
                        "application/vnd.dataresource+json": {
                            "data": [
                                {
                                    "(No column name)": "28085"
                                }
                            ],
                            "schema": {
                                "fields": [
                                    {
                                        "name": "(No column name)"
                                    }
                                ]
                            }
                        },
                        "text/html": "<table>\n<tr><th>(No column name)</th></tr>\n<tr><td>28085</td></tr>\n</table>"
                    },
                    "metadata": {}
                }
            ],
            "execution_count": 10
        },
        {
            "cell_type": "code",
            "source": [
                "SELECT [LOGIN], COUNT(*)\n",
                "FROM Rendeles\n",
                "GROUP BY [LOGIN]\n",
                "ORDER BY COUNT(*)"
            ],
            "metadata": {
                "azdata_cell_guid": "632da4aa-ab3c-4752-89ad-ca1adc56e918",
                "language": "sql"
            },
            "outputs": [
                {
                    "output_type": "display_data",
                    "data": {
                        "text/html": "(191 rows affected)"
                    },
                    "metadata": {}
                },
                {
                    "output_type": "display_data",
                    "data": {
                        "text/html": "Total execution time: 00:00:01.611"
                    },
                    "metadata": {}
                },
                {
                    "output_type": "execute_result",
                    "execution_count": 12,
                    "data": {
                        "application/vnd.dataresource+json": {
                            "data": [
                                {
                                    "(No column name)": "7",
                                    "LOGIN": "EVAV"
                                },
                                {
                                    "(No column name)": "8",
                                    "LOGIN": "roza2"
                                },
                                {
                                    "(No column name)": "9",
                                    "LOGIN": "denes"
                                },
                                {
                                    "(No column name)": "9",
                                    "LOGIN": "andras3"
                                },
                                {
                                    "(No column name)": "10",
                                    "LOGIN": "JANOSG"
                                },
                                {
                                    "(No column name)": "10",
                                    "LOGIN": "maria1"
                                },
                                {
                                    "(No column name)": "11",
                                    "LOGIN": "AGNESH"
                                },
                                {
                                    "(No column name)": "11",
                                    "LOGIN": "norbert2"
                                },
                                {
                                    "(No column name)": "11",
                                    "LOGIN": "istvan"
                                },
                                {
                                    "(No column name)": "11",
                                    "LOGIN": "sandor4"
                                },
                                {
                                    "(No column name)": "11",
                                    "LOGIN": "kornel4"
                                },
                                {
                                    "(No column name)": "12",
                                    "LOGIN": "anita"
                                },
                                {
                                    "(No column name)": "12",
                                    "LOGIN": "andras4"
                                },
                                {
                                    "(No column name)": "12",
                                    "LOGIN": "MATYASS"
                                },
                                {
                                    "(No column name)": "12",
                                    "LOGIN": "kata"
                                },
                                {
                                    "(No column name)": "13",
                                    "LOGIN": "ANNAMARIAR"
                                },
                                {
                                    "(No column name)": "13",
                                    "LOGIN": "daniel"
                                },
                                {
                                    "(No column name)": "13",
                                    "LOGIN": "ROBERTI"
                                },
                                {
                                    "(No column name)": "13",
                                    "LOGIN": "jozsef2"
                                },
                                {
                                    "(No column name)": "13",
                                    "LOGIN": "kati"
                                },
                                {
                                    "(No column name)": "13",
                                    "LOGIN": "miklos2"
                                },
                                {
                                    "(No column name)": "13",
                                    "LOGIN": "MIHALYJ"
                                },
                                {
                                    "(No column name)": "13",
                                    "LOGIN": "norbert4"
                                },
                                {
                                    "(No column name)": "13",
                                    "LOGIN": "robert2"
                                },
                                {
                                    "(No column name)": "13",
                                    "LOGIN": "edit"
                                },
                                {
                                    "(No column name)": "13",
                                    "LOGIN": "dani"
                                },
                                {
                                    "(No column name)": "13",
                                    "LOGIN": "janos3"
                                },
                                {
                                    "(No column name)": "13",
                                    "LOGIN": "kriszti"
                                },
                                {
                                    "(No column name)": "13",
                                    "LOGIN": "valentin"
                                },
                                {
                                    "(No column name)": "13",
                                    "LOGIN": "ZOLTANP"
                                },
                                {
                                    "(No column name)": "13",
                                    "LOGIN": "tamara2"
                                },
                                {
                                    "(No column name)": "14",
                                    "LOGIN": "gabriella1"
                                },
                                {
                                    "(No column name)": "14",
                                    "LOGIN": "gusztav"
                                },
                                {
                                    "(No column name)": "14",
                                    "LOGIN": "marton"
                                },
                                {
                                    "(No column name)": "14",
                                    "LOGIN": "ARPADH"
                                },
                                {
                                    "(No column name)": "14",
                                    "LOGIN": "VIKTORIAU"
                                },
                                {
                                    "(No column name)": "14",
                                    "LOGIN": "julia4"
                                },
                                {
                                    "(No column name)": "14",
                                    "LOGIN": "ATTILAO"
                                },
                                {
                                    "(No column name)": "14",
                                    "LOGIN": "sandor3"
                                },
                                {
                                    "(No column name)": "15",
                                    "LOGIN": "MIKLOSB"
                                },
                                {
                                    "(No column name)": "15",
                                    "LOGIN": "adam3"
                                },
                                {
                                    "(No column name)": "15",
                                    "LOGIN": "balazs3"
                                },
                                {
                                    "(No column name)": "15",
                                    "LOGIN": "csongor3"
                                },
                                {
                                    "(No column name)": "15",
                                    "LOGIN": "aniko4"
                                },
                                {
                                    "(No column name)": "15",
                                    "LOGIN": "GYONGYIK"
                                },
                                {
                                    "(No column name)": "15",
                                    "LOGIN": "bernadett2"
                                },
                                {
                                    "(No column name)": "15",
                                    "LOGIN": "zsuzsanna"
                                },
                                {
                                    "(No column name)": "15",
                                    "LOGIN": "GABORS"
                                },
                                {
                                    "(No column name)": "15",
                                    "LOGIN": "zoltan"
                                },
                                {
                                    "(No column name)": "15",
                                    "LOGIN": "PETERB"
                                },
                                {
                                    "(No column name)": "15",
                                    "LOGIN": "AGNESK"
                                },
                                {
                                    "(No column name)": "15",
                                    "LOGIN": "imre"
                                },
                                {
                                    "(No column name)": "15",
                                    "LOGIN": "SEBASTIANF"
                                },
                                {
                                    "(No column name)": "15",
                                    "LOGIN": "imre1"
                                },
                                {
                                    "(No column name)": "16",
                                    "LOGIN": "zsuzsa"
                                },
                                {
                                    "(No column name)": "16",
                                    "LOGIN": "debora"
                                },
                                {
                                    "(No column name)": "16",
                                    "LOGIN": "norbert5"
                                },
                                {
                                    "(No column name)": "16",
                                    "LOGIN": "timea2"
                                },
                                {
                                    "(No column name)": "16",
                                    "LOGIN": "zsuzsa3"
                                },
                                {
                                    "(No column name)": "16",
                                    "LOGIN": "ARPADM"
                                },
                                {
                                    "(No column name)": "16",
                                    "LOGIN": "lajos"
                                },
                                {
                                    "(No column name)": "16",
                                    "LOGIN": "annamaria1"
                                },
                                {
                                    "(No column name)": "16",
                                    "LOGIN": "balint"
                                },
                                {
                                    "(No column name)": "16",
                                    "LOGIN": "henrik3"
                                },
                                {
                                    "(No column name)": "16",
                                    "LOGIN": "sebestyen"
                                },
                                {
                                    "(No column name)": "16",
                                    "LOGIN": "RENATAS"
                                },
                                {
                                    "(No column name)": "16",
                                    "LOGIN": "tunde"
                                },
                                {
                                    "(No column name)": "16",
                                    "LOGIN": "GYORGYO"
                                },
                                {
                                    "(No column name)": "16",
                                    "LOGIN": "gabriella10"
                                },
                                {
                                    "(No column name)": "16",
                                    "LOGIN": "BERNADETTO"
                                },
                                {
                                    "(No column name)": "17",
                                    "LOGIN": "arpad2"
                                },
                                {
                                    "(No column name)": "17",
                                    "LOGIN": "sandor"
                                },
                                {
                                    "(No column name)": "17",
                                    "LOGIN": "BENCEB"
                                },
                                {
                                    "(No column name)": "17",
                                    "LOGIN": "JANOSP"
                                },
                                {
                                    "(No column name)": "17",
                                    "LOGIN": "balint2"
                                },
                                {
                                    "(No column name)": "17",
                                    "LOGIN": "balazs2"
                                },
                                {
                                    "(No column name)": "17",
                                    "LOGIN": "lala"
                                },
                                {
                                    "(No column name)": "17",
                                    "LOGIN": "david1"
                                },
                                {
                                    "(No column name)": "17",
                                    "LOGIN": "nikolett3"
                                },
                                {
                                    "(No column name)": "17",
                                    "LOGIN": "rajmond4"
                                },
                                {
                                    "(No column name)": "17",
                                    "LOGIN": "krisztian4"
                                },
                                {
                                    "(No column name)": "17",
                                    "LOGIN": "klaudia2"
                                },
                                {
                                    "(No column name)": "18",
                                    "LOGIN": "anett3"
                                },
                                {
                                    "(No column name)": "18",
                                    "LOGIN": "andi"
                                },
                                {
                                    "(No column name)": "18",
                                    "LOGIN": "BELAF"
                                },
                                {
                                    "(No column name)": "18",
                                    "LOGIN": "ilona3"
                                },
                                {
                                    "(No column name)": "18",
                                    "LOGIN": "peter2"
                                },
                                {
                                    "(No column name)": "18",
                                    "LOGIN": "andrea4"
                                },
                                {
                                    "(No column name)": "18",
                                    "LOGIN": "veronika4"
                                },
                                {
                                    "(No column name)": "18",
                                    "LOGIN": "attila1"
                                },
                                {
                                    "(No column name)": "18",
                                    "LOGIN": "bence"
                                },
                                {
                                    "(No column name)": "18",
                                    "LOGIN": "fruzsina4"
                                },
                                {
                                    "(No column name)": "18",
                                    "LOGIN": "ZSOLTJ"
                                },
                                {
                                    "(No column name)": "19",
                                    "LOGIN": "gabor1"
                                },
                                {
                                    "(No column name)": "19",
                                    "LOGIN": "istvan1"
                                },
                                {
                                    "(No column name)": "19",
                                    "LOGIN": "zsofi1"
                                },
                                {
                                    "(No column name)": "19",
                                    "LOGIN": "alexandra"
                                },
                                {
                                    "(No column name)": "19",
                                    "LOGIN": "katalin"
                                },
                                {
                                    "(No column name)": "20",
                                    "LOGIN": "bernadett1"
                                },
                                {
                                    "(No column name)": "20",
                                    "LOGIN": "VIKTORK"
                                },
                                {
                                    "(No column name)": "20",
                                    "LOGIN": "sara"
                                },
                                {
                                    "(No column name)": "20",
                                    "LOGIN": "gabor4"
                                },
                                {
                                    "(No column name)": "20",
                                    "LOGIN": "tihamer"
                                },
                                {
                                    "(No column name)": "20",
                                    "LOGIN": "reka4"
                                },
                                {
                                    "(No column name)": "20",
                                    "LOGIN": "zsolt1"
                                },
                                {
                                    "(No column name)": "21",
                                    "LOGIN": "JOZSEFG"
                                },
                                {
                                    "(No column name)": "21",
                                    "LOGIN": "georgij"
                                },
                                {
                                    "(No column name)": "21",
                                    "LOGIN": "ANDREAT"
                                },
                                {
                                    "(No column name)": "21",
                                    "LOGIN": "ISTVANV"
                                },
                                {
                                    "(No column name)": "21",
                                    "LOGIN": "david4"
                                },
                                {
                                    "(No column name)": "21",
                                    "LOGIN": "kristof4"
                                },
                                {
                                    "(No column name)": "22",
                                    "LOGIN": "polla"
                                },
                                {
                                    "(No column name)": "22",
                                    "LOGIN": "vivien3"
                                },
                                {
                                    "(No column name)": "22",
                                    "LOGIN": "krisztina1"
                                },
                                {
                                    "(No column name)": "22",
                                    "LOGIN": "andras2"
                                },
                                {
                                    "(No column name)": "22",
                                    "LOGIN": "katka"
                                },
                                {
                                    "(No column name)": "22",
                                    "LOGIN": "KRISZTINAG"
                                },
                                {
                                    "(No column name)": "22",
                                    "LOGIN": "ESZTERE"
                                },
                                {
                                    "(No column name)": "23",
                                    "LOGIN": "katalin4"
                                },
                                {
                                    "(No column name)": "24",
                                    "LOGIN": "ANDRASN"
                                },
                                {
                                    "(No column name)": "24",
                                    "LOGIN": "andrea"
                                },
                                {
                                    "(No column name)": "25",
                                    "LOGIN": "tibor2"
                                },
                                {
                                    "(No column name)": "25",
                                    "LOGIN": "MATEK"
                                },
                                {
                                    "(No column name)": "25",
                                    "LOGIN": "peter3"
                                },
                                {
                                    "(No column name)": "25",
                                    "LOGIN": "laszlo2"
                                },
                                {
                                    "(No column name)": "25",
                                    "LOGIN": "NIKOLETTAT"
                                },
                                {
                                    "(No column name)": "26",
                                    "LOGIN": "ROBERTP"
                                },
                                {
                                    "(No column name)": "27",
                                    "LOGIN": "julianna4"
                                },
                                {
                                    "(No column name)": "29",
                                    "LOGIN": "adam4"
                                },
                                {
                                    "(No column name)": "55",
                                    "LOGIN": "timea"
                                },
                                {
                                    "(No column name)": "353",
                                    "LOGIN": "bertalan"
                                },
                                {
                                    "(No column name)": "357",
                                    "LOGIN": "ZOLTANT"
                                },
                                {
                                    "(No column name)": "374",
                                    "LOGIN": "tibor"
                                },
                                {
                                    "(No column name)": "382",
                                    "LOGIN": "jozsef"
                                },
                                {
                                    "(No column name)": "384",
                                    "LOGIN": "KRISZTIANM"
                                },
                                {
                                    "(No column name)": "386",
                                    "LOGIN": "SZILARDS"
                                },
                                {
                                    "(No column name)": "387",
                                    "LOGIN": "balu"
                                },
                                {
                                    "(No column name)": "390",
                                    "LOGIN": "andras21"
                                },
                                {
                                    "(No column name)": "392",
                                    "LOGIN": "adam1"
                                },
                                {
                                    "(No column name)": "393",
                                    "LOGIN": "brigitta"
                                },
                                {
                                    "(No column name)": "394",
                                    "LOGIN": "laszlo1"
                                },
                                {
                                    "(No column name)": "400",
                                    "LOGIN": "LASZLON"
                                },
                                {
                                    "(No column name)": "401",
                                    "LOGIN": "attila4"
                                },
                                {
                                    "(No column name)": "403",
                                    "LOGIN": "aniko"
                                },
                                {
                                    "(No column name)": "404",
                                    "LOGIN": "ANIKOS"
                                },
                                {
                                    "(No column name)": "404",
                                    "LOGIN": "eva"
                                },
                                {
                                    "(No column name)": "406",
                                    "LOGIN": "emese"
                                },
                                {
                                    "(No column name)": "407",
                                    "LOGIN": "MONIKAM"
                                },
                                {
                                    "(No column name)": "408",
                                    "LOGIN": "SZABOLCSM"
                                },
                                {
                                    "(No column name)": "408",
                                    "LOGIN": "aladar"
                                },
                                {
                                    "(No column name)": "409",
                                    "LOGIN": "aron2"
                                },
                                {
                                    "(No column name)": "412",
                                    "LOGIN": "peter1"
                                },
                                {
                                    "(No column name)": "412",
                                    "LOGIN": "MARKH"
                                },
                                {
                                    "(No column name)": "413",
                                    "LOGIN": "brigitta3"
                                },
                                {
                                    "(No column name)": "413",
                                    "LOGIN": "andrea3"
                                },
                                {
                                    "(No column name)": "414",
                                    "LOGIN": "roland"
                                },
                                {
                                    "(No column name)": "414",
                                    "LOGIN": "nikoletta4"
                                },
                                {
                                    "(No column name)": "415",
                                    "LOGIN": "eszter2"
                                },
                                {
                                    "(No column name)": "418",
                                    "LOGIN": "agnes"
                                },
                                {
                                    "(No column name)": "419",
                                    "LOGIN": "andras41"
                                },
                                {
                                    "(No column name)": "419",
                                    "LOGIN": "balazs1"
                                },
                                {
                                    "(No column name)": "419",
                                    "LOGIN": "daniel1"
                                },
                                {
                                    "(No column name)": "420",
                                    "LOGIN": "BEATRIXS"
                                },
                                {
                                    "(No column name)": "420",
                                    "LOGIN": "NANDORF"
                                },
                                {
                                    "(No column name)": "420",
                                    "LOGIN": "ZSUZSAV"
                                },
                                {
                                    "(No column name)": "421",
                                    "LOGIN": "tamas"
                                },
                                {
                                    "(No column name)": "422",
                                    "LOGIN": "RENATAK"
                                },
                                {
                                    "(No column name)": "422",
                                    "LOGIN": "IBOLYAA"
                                },
                                {
                                    "(No column name)": "424",
                                    "LOGIN": "zoltan4"
                                },
                                {
                                    "(No column name)": "424",
                                    "LOGIN": "eszter4"
                                },
                                {
                                    "(No column name)": "429",
                                    "LOGIN": "akos"
                                },
                                {
                                    "(No column name)": "430",
                                    "LOGIN": "ARONK"
                                },
                                {
                                    "(No column name)": "430",
                                    "LOGIN": "agnes3"
                                },
                                {
                                    "(No column name)": "432",
                                    "LOGIN": "dora3"
                                },
                                {
                                    "(No column name)": "432",
                                    "LOGIN": "roland1"
                                },
                                {
                                    "(No column name)": "433",
                                    "LOGIN": "matyas2"
                                },
                                {
                                    "(No column name)": "433",
                                    "LOGIN": "TAMASF"
                                },
                                {
                                    "(No column name)": "435",
                                    "LOGIN": "BEATRIXK"
                                },
                                {
                                    "(No column name)": "435",
                                    "LOGIN": "julia"
                                },
                                {
                                    "(No column name)": "436",
                                    "LOGIN": "ANDRASE"
                                },
                                {
                                    "(No column name)": "437",
                                    "LOGIN": "ferenc1"
                                },
                                {
                                    "(No column name)": "438",
                                    "LOGIN": "pal"
                                },
                                {
                                    "(No column name)": "445",
                                    "LOGIN": "szilvia1"
                                },
                                {
                                    "(No column name)": "446",
                                    "LOGIN": "LASZLOA"
                                },
                                {
                                    "(No column name)": "450",
                                    "LOGIN": "JUDITH"
                                },
                                {
                                    "(No column name)": "451",
                                    "LOGIN": "david"
                                },
                                {
                                    "(No column name)": "456",
                                    "LOGIN": "krisztina"
                                },
                                {
                                    "(No column name)": "462",
                                    "LOGIN": "eva2"
                                },
                                {
                                    "(No column name)": "462",
                                    "LOGIN": "balint1"
                                },
                                {
                                    "(No column name)": "471",
                                    "LOGIN": "szabolcs"
                                },
                                {
                                    "(No column name)": "852",
                                    "LOGIN": "peter4"
                                }
                            ],
                            "schema": {
                                "fields": [
                                    {
                                        "name": "LOGIN"
                                    },
                                    {
                                        "name": "(No column name)"
                                    }
                                ]
                            }
                        },
                        "text/html": "<table>\n<tr><th>LOGIN</th><th>(No column name)</th></tr>\n<tr><td>EVAV</td><td>7</td></tr>\n<tr><td>roza2</td><td>8</td></tr>\n<tr><td>denes</td><td>9</td></tr>\n<tr><td>andras3</td><td>9</td></tr>\n<tr><td>JANOSG</td><td>10</td></tr>\n<tr><td>maria1</td><td>10</td></tr>\n<tr><td>AGNESH</td><td>11</td></tr>\n<tr><td>norbert2</td><td>11</td></tr>\n<tr><td>istvan</td><td>11</td></tr>\n<tr><td>sandor4</td><td>11</td></tr>\n<tr><td>kornel4</td><td>11</td></tr>\n<tr><td>anita</td><td>12</td></tr>\n<tr><td>andras4</td><td>12</td></tr>\n<tr><td>MATYASS</td><td>12</td></tr>\n<tr><td>kata</td><td>12</td></tr>\n<tr><td>ANNAMARIAR</td><td>13</td></tr>\n<tr><td>daniel</td><td>13</td></tr>\n<tr><td>ROBERTI</td><td>13</td></tr>\n<tr><td>jozsef2</td><td>13</td></tr>\n<tr><td>kati</td><td>13</td></tr>\n<tr><td>miklos2</td><td>13</td></tr>\n<tr><td>MIHALYJ</td><td>13</td></tr>\n<tr><td>norbert4</td><td>13</td></tr>\n<tr><td>robert2</td><td>13</td></tr>\n<tr><td>edit</td><td>13</td></tr>\n<tr><td>dani</td><td>13</td></tr>\n<tr><td>janos3</td><td>13</td></tr>\n<tr><td>kriszti</td><td>13</td></tr>\n<tr><td>valentin</td><td>13</td></tr>\n<tr><td>ZOLTANP</td><td>13</td></tr>\n<tr><td>tamara2</td><td>13</td></tr>\n<tr><td>gabriella1</td><td>14</td></tr>\n<tr><td>gusztav</td><td>14</td></tr>\n<tr><td>marton</td><td>14</td></tr>\n<tr><td>ARPADH</td><td>14</td></tr>\n<tr><td>VIKTORIAU</td><td>14</td></tr>\n<tr><td>julia4</td><td>14</td></tr>\n<tr><td>ATTILAO</td><td>14</td></tr>\n<tr><td>sandor3</td><td>14</td></tr>\n<tr><td>MIKLOSB</td><td>15</td></tr>\n<tr><td>adam3</td><td>15</td></tr>\n<tr><td>balazs3</td><td>15</td></tr>\n<tr><td>csongor3</td><td>15</td></tr>\n<tr><td>aniko4</td><td>15</td></tr>\n<tr><td>GYONGYIK</td><td>15</td></tr>\n<tr><td>bernadett2</td><td>15</td></tr>\n<tr><td>zsuzsanna</td><td>15</td></tr>\n<tr><td>GABORS</td><td>15</td></tr>\n<tr><td>zoltan</td><td>15</td></tr>\n<tr><td>PETERB</td><td>15</td></tr>\n<tr><td>AGNESK</td><td>15</td></tr>\n<tr><td>imre</td><td>15</td></tr>\n<tr><td>SEBASTIANF</td><td>15</td></tr>\n<tr><td>imre1</td><td>15</td></tr>\n<tr><td>zsuzsa</td><td>16</td></tr>\n<tr><td>debora</td><td>16</td></tr>\n<tr><td>norbert5</td><td>16</td></tr>\n<tr><td>timea2</td><td>16</td></tr>\n<tr><td>zsuzsa3</td><td>16</td></tr>\n<tr><td>ARPADM</td><td>16</td></tr>\n<tr><td>lajos</td><td>16</td></tr>\n<tr><td>annamaria1</td><td>16</td></tr>\n<tr><td>balint</td><td>16</td></tr>\n<tr><td>henrik3</td><td>16</td></tr>\n<tr><td>sebestyen</td><td>16</td></tr>\n<tr><td>RENATAS</td><td>16</td></tr>\n<tr><td>tunde</td><td>16</td></tr>\n<tr><td>GYORGYO</td><td>16</td></tr>\n<tr><td>gabriella10</td><td>16</td></tr>\n<tr><td>BERNADETTO</td><td>16</td></tr>\n<tr><td>arpad2</td><td>17</td></tr>\n<tr><td>sandor</td><td>17</td></tr>\n<tr><td>BENCEB</td><td>17</td></tr>\n<tr><td>JANOSP</td><td>17</td></tr>\n<tr><td>balint2</td><td>17</td></tr>\n<tr><td>balazs2</td><td>17</td></tr>\n<tr><td>lala</td><td>17</td></tr>\n<tr><td>david1</td><td>17</td></tr>\n<tr><td>nikolett3</td><td>17</td></tr>\n<tr><td>rajmond4</td><td>17</td></tr>\n<tr><td>krisztian4</td><td>17</td></tr>\n<tr><td>klaudia2</td><td>17</td></tr>\n<tr><td>anett3</td><td>18</td></tr>\n<tr><td>andi</td><td>18</td></tr>\n<tr><td>BELAF</td><td>18</td></tr>\n<tr><td>ilona3</td><td>18</td></tr>\n<tr><td>peter2</td><td>18</td></tr>\n<tr><td>andrea4</td><td>18</td></tr>\n<tr><td>veronika4</td><td>18</td></tr>\n<tr><td>attila1</td><td>18</td></tr>\n<tr><td>bence</td><td>18</td></tr>\n<tr><td>fruzsina4</td><td>18</td></tr>\n<tr><td>ZSOLTJ</td><td>18</td></tr>\n<tr><td>gabor1</td><td>19</td></tr>\n<tr><td>istvan1</td><td>19</td></tr>\n<tr><td>zsofi1</td><td>19</td></tr>\n<tr><td>alexandra</td><td>19</td></tr>\n<tr><td>katalin</td><td>19</td></tr>\n<tr><td>bernadett1</td><td>20</td></tr>\n<tr><td>VIKTORK</td><td>20</td></tr>\n<tr><td>sara</td><td>20</td></tr>\n<tr><td>gabor4</td><td>20</td></tr>\n<tr><td>tihamer</td><td>20</td></tr>\n<tr><td>reka4</td><td>20</td></tr>\n<tr><td>zsolt1</td><td>20</td></tr>\n<tr><td>JOZSEFG</td><td>21</td></tr>\n<tr><td>georgij</td><td>21</td></tr>\n<tr><td>ANDREAT</td><td>21</td></tr>\n<tr><td>ISTVANV</td><td>21</td></tr>\n<tr><td>david4</td><td>21</td></tr>\n<tr><td>kristof4</td><td>21</td></tr>\n<tr><td>polla</td><td>22</td></tr>\n<tr><td>vivien3</td><td>22</td></tr>\n<tr><td>krisztina1</td><td>22</td></tr>\n<tr><td>andras2</td><td>22</td></tr>\n<tr><td>katka</td><td>22</td></tr>\n<tr><td>KRISZTINAG</td><td>22</td></tr>\n<tr><td>ESZTERE</td><td>22</td></tr>\n<tr><td>katalin4</td><td>23</td></tr>\n<tr><td>ANDRASN</td><td>24</td></tr>\n<tr><td>andrea</td><td>24</td></tr>\n<tr><td>tibor2</td><td>25</td></tr>\n<tr><td>MATEK</td><td>25</td></tr>\n<tr><td>peter3</td><td>25</td></tr>\n<tr><td>laszlo2</td><td>25</td></tr>\n<tr><td>NIKOLETTAT</td><td>25</td></tr>\n<tr><td>ROBERTP</td><td>26</td></tr>\n<tr><td>julianna4</td><td>27</td></tr>\n<tr><td>adam4</td><td>29</td></tr>\n<tr><td>timea</td><td>55</td></tr>\n<tr><td>bertalan</td><td>353</td></tr>\n<tr><td>ZOLTANT</td><td>357</td></tr>\n<tr><td>tibor</td><td>374</td></tr>\n<tr><td>jozsef</td><td>382</td></tr>\n<tr><td>KRISZTIANM</td><td>384</td></tr>\n<tr><td>SZILARDS</td><td>386</td></tr>\n<tr><td>balu</td><td>387</td></tr>\n<tr><td>andras21</td><td>390</td></tr>\n<tr><td>adam1</td><td>392</td></tr>\n<tr><td>brigitta</td><td>393</td></tr>\n<tr><td>laszlo1</td><td>394</td></tr>\n<tr><td>LASZLON</td><td>400</td></tr>\n<tr><td>attila4</td><td>401</td></tr>\n<tr><td>aniko</td><td>403</td></tr>\n<tr><td>ANIKOS</td><td>404</td></tr>\n<tr><td>eva</td><td>404</td></tr>\n<tr><td>emese</td><td>406</td></tr>\n<tr><td>MONIKAM</td><td>407</td></tr>\n<tr><td>SZABOLCSM</td><td>408</td></tr>\n<tr><td>aladar</td><td>408</td></tr>\n<tr><td>aron2</td><td>409</td></tr>\n<tr><td>peter1</td><td>412</td></tr>\n<tr><td>MARKH</td><td>412</td></tr>\n<tr><td>brigitta3</td><td>413</td></tr>\n<tr><td>andrea3</td><td>413</td></tr>\n<tr><td>roland</td><td>414</td></tr>\n<tr><td>nikoletta4</td><td>414</td></tr>\n<tr><td>eszter2</td><td>415</td></tr>\n<tr><td>agnes</td><td>418</td></tr>\n<tr><td>andras41</td><td>419</td></tr>\n<tr><td>balazs1</td><td>419</td></tr>\n<tr><td>daniel1</td><td>419</td></tr>\n<tr><td>BEATRIXS</td><td>420</td></tr>\n<tr><td>NANDORF</td><td>420</td></tr>\n<tr><td>ZSUZSAV</td><td>420</td></tr>\n<tr><td>tamas</td><td>421</td></tr>\n<tr><td>RENATAK</td><td>422</td></tr>\n<tr><td>IBOLYAA</td><td>422</td></tr>\n<tr><td>zoltan4</td><td>424</td></tr>\n<tr><td>eszter4</td><td>424</td></tr>\n<tr><td>akos</td><td>429</td></tr>\n<tr><td>ARONK</td><td>430</td></tr>\n<tr><td>agnes3</td><td>430</td></tr>\n<tr><td>dora3</td><td>432</td></tr>\n<tr><td>roland1</td><td>432</td></tr>\n<tr><td>matyas2</td><td>433</td></tr>\n<tr><td>TAMASF</td><td>433</td></tr>\n<tr><td>BEATRIXK</td><td>435</td></tr>\n<tr><td>julia</td><td>435</td></tr>\n<tr><td>ANDRASE</td><td>436</td></tr>\n<tr><td>ferenc1</td><td>437</td></tr>\n<tr><td>pal</td><td>438</td></tr>\n<tr><td>szilvia1</td><td>445</td></tr>\n<tr><td>LASZLOA</td><td>446</td></tr>\n<tr><td>JUDITH</td><td>450</td></tr>\n<tr><td>david</td><td>451</td></tr>\n<tr><td>krisztina</td><td>456</td></tr>\n<tr><td>eva2</td><td>462</td></tr>\n<tr><td>balint1</td><td>462</td></tr>\n<tr><td>szabolcs</td><td>471</td></tr>\n<tr><td>peter4</td><td>852</td></tr>\n</table>"
                    },
                    "metadata": {}
                }
            ],
            "execution_count": 12
        },
        {
            "cell_type": "markdown",
            "source": [
                "![atlag.png](attachment:atlag.png)"
            ],
            "metadata": {
                "azdata_cell_guid": "d9faec86-340e-40c1-8bd5-19e89881fbf5"
            },
            "attachments": {
                "atlag.png": {
                    "image/png": "[encoded data removed]"
                }
            }
        },
        {
            "cell_type": "code",
            "source": [
                "SELECT SZALL_MOD AS 'Szállítás módja', COUNT(*) AS 'Szállítások száma'\n",
                "FROM Rendeles\n",
                "GROUP BY SZALL_MOD"
            ],
            "metadata": {
                "azdata_cell_guid": "a87af998-06a3-44c7-8b24-9c2b01eac0a6",
                "language": "sql"
            },
            "outputs": [
                {
                    "output_type": "display_data",
                    "data": {
                        "text/html": "(3 rows affected)"
                    },
                    "metadata": {}
                },
                {
                    "output_type": "display_data",
                    "data": {
                        "text/html": "Total execution time: 00:00:00.116"
                    },
                    "metadata": {}
                },
                {
                    "output_type": "execute_result",
                    "execution_count": 23,
                    "data": {
                        "application/vnd.dataresource+json": {
                            "data": [
                                {
                                    "Szállítás módja": "GLS",
                                    "Szállítások száma": "9426"
                                },
                                {
                                    "Szállítás módja": "Személyes átvétel",
                                    "Szállítások száma": "9468"
                                },
                                {
                                    "Szállítás módja": "Posta",
                                    "Szállítások száma": "9191"
                                }
                            ],
                            "schema": {
                                "fields": [
                                    {
                                        "name": "Szállítás módja"
                                    },
                                    {
                                        "name": "Szállítások száma"
                                    }
                                ]
                            }
                        },
                        "text/html": "<table>\n<tr><th>Szállítás módja</th><th>Szállítások száma</th></tr>\n<tr><td>GLS</td><td>9426</td></tr>\n<tr><td>Személyes átvétel</td><td>9468</td></tr>\n<tr><td>Posta</td><td>9191</td></tr>\n</table>"
                    },
                    "metadata": {}
                }
            ],
            "execution_count": 23
        },
        {
            "cell_type": "markdown",
            "source": [
                "![posta.png](attachment:posta.png)"
            ],
            "metadata": {
                "language": "sql",
                "azdata_cell_guid": "17d067ee-5e9f-4275-9424-4e339dfa058d"
            },
            "attachments": {
                "posta.png": {
                    "image/png": "[encoded data removed]"
                }
            }
        },
        {
            "cell_type": "code",
            "source": [
                "SELECT FIZ_MOD AS 'Fizetés módja', COUNT(*) AS 'Fizetések száma'\n",
                "FROM Rendeles\n",
                "GROUP BY FIZ_MOD"
            ],
            "metadata": {
                "azdata_cell_guid": "2d8c34d7-3f40-4b6d-8688-1ad806439be6",
                "language": "sql"
            },
            "outputs": [
                {
                    "output_type": "display_data",
                    "data": {
                        "text/html": "(3 rows affected)"
                    },
                    "metadata": {}
                },
                {
                    "output_type": "display_data",
                    "data": {
                        "text/html": "Total execution time: 00:00:00.100"
                    },
                    "metadata": {}
                },
                {
                    "output_type": "execute_result",
                    "execution_count": 25,
                    "data": {
                        "application/vnd.dataresource+json": {
                            "data": [
                                {
                                    "Fizetés módja": "Bankkártya",
                                    "Fizetések száma": "14003"
                                },
                                {
                                    "Fizetés módja": "Átutalás",
                                    "Fizetések száma": "11284"
                                },
                                {
                                    "Fizetés módja": "Készpénz",
                                    "Fizetések száma": "2798"
                                }
                            ],
                            "schema": {
                                "fields": [
                                    {
                                        "name": "Fizetés módja"
                                    },
                                    {
                                        "name": "Fizetések száma"
                                    }
                                ]
                            }
                        },
                        "text/html": "<table>\n<tr><th>Fizetés módja</th><th>Fizetések száma</th></tr>\n<tr><td>Bankkártya</td><td>14003</td></tr>\n<tr><td>Átutalás</td><td>11284</td></tr>\n<tr><td>Készpénz</td><td>2798</td></tr>\n</table>"
                    },
                    "metadata": {}
                }
            ],
            "execution_count": 25
        },
        {
            "cell_type": "markdown",
            "source": [
                "![fiz.png](attachment:fiz.png)"
            ],
            "metadata": {
                "language": "sql",
                "azdata_cell_guid": "779a8379-8049-473f-89be-5d6f5e59ea8e"
            },
            "attachments": {
                "fiz.png": {
                    "image/png": "[encoded data removed]"
                }
            }
        },
        {
            "cell_type": "markdown",
            "source": [
                "![Képernyőkép 2025-03-21 092307.png](attachment:Képernyőkép2025-03-21092307.png)"
            ],
            "metadata": {
                "language": "sql",
                "azdata_cell_guid": "6a06a674-7f7a-4374-a9e4-f4baed858de9"
            },
            "attachments": {
                "Képernyőkép2025-03-21092307.png": {
                    "image/png": "[encoded data removed]"
                }
            }
        }
    ]
}
{
    "metadata": {
        "kernelspec": {
            "name": "SQL",
            "display_name": "SQL",
            "language": "sql"
        },
        "language_info": {
            "name": "sql",
            "version": ""
        }
    },
    "nbformat_minor": 2,
    "nbformat": 4,
    "cells": [
        {
            "cell_type": "code",
            "source": [
                "-- 1. feladat\r\n",
                "\r\n",
                "SELECT DATEDIFF(YEAR,SZUL_DAT,CAST(GETDATE() as date)) AS 'Életkor',\r\n",
                "       COUNT(*) AS 'db'\r\n",
                "FROM Vendeg\r\n",
                "WHERE  CAST(DATEDIFF(YEAR,SZUL_DAT,CAST(GETDATE() as date)) as int) >=18\r\n",
                "GROUP BY DATEDIFF(YEAR,SZUL_DAT,CAST(GETDATE() as date))\r\n",
                "HAVING DATEDIFF(YEAR,SZUL_DAT,CAST(GETDATE() as date))>=5\r\n",
                "ORDER BY DATEDIFF(YEAR,SZUL_DAT,CAST(GETDATE() as date)) ASC"
            ],
            "metadata": {
                "azdata_cell_guid": "0e4229c8-acc4-4cee-a3a8-9aa21e33360c",
                "language": "sql",
                "tags": []
            },
            "outputs": [
                {
                    "output_type": "display_data",
                    "data": {
                        "text/html": "(32 rows affected)"
                    },
                    "metadata": {}
                },
                {
                    "output_type": "display_data",
                    "data": {
                        "text/html": "Total execution time: 00:00:00.005"
                    },
                    "metadata": {}
                },
                {
                    "output_type": "execute_result",
                    "metadata": {},
                    "execution_count": 12,
                    "data": {
                        "application/vnd.dataresource+json": {
                            "schema": {
                                "fields": [
                                    {
                                        "name": "Életkor"
                                    },
                                    {
                                        "name": "db"
                                    }
                                ]
                            },
                            "data": [
                                {
                                    "Életkor": "27",
                                    "db": "1"
                                },
                                {
                                    "Életkor": "28",
                                    "db": "12"
                                },
                                {
                                    "Életkor": "29",
                                    "db": "7"
                                },
                                {
                                    "Életkor": "30",
                                    "db": "6"
                                },
                                {
                                    "Életkor": "31",
                                    "db": "3"
                                },
                                {
                                    "Életkor": "32",
                                    "db": "5"
                                },
                                {
                                    "Életkor": "33",
                                    "db": "4"
                                },
                                {
                                    "Életkor": "34",
                                    "db": "6"
                                },
                                {
                                    "Életkor": "35",
                                    "db": "8"
                                },
                                {
                                    "Életkor": "36",
                                    "db": "7"
                                },
                                {
                                    "Életkor": "37",
                                    "db": "6"
                                },
                                {
                                    "Életkor": "38",
                                    "db": "5"
                                },
                                {
                                    "Életkor": "39",
                                    "db": "9"
                                },
                                {
                                    "Életkor": "40",
                                    "db": "6"
                                },
                                {
                                    "Életkor": "41",
                                    "db": "8"
                                },
                                {
                                    "Életkor": "42",
                                    "db": "8"
                                },
                                {
                                    "Életkor": "43",
                                    "db": "4"
                                },
                                {
                                    "Életkor": "44",
                                    "db": "4"
                                },
                                {
                                    "Életkor": "45",
                                    "db": "7"
                                },
                                {
                                    "Életkor": "46",
                                    "db": "7"
                                },
                                {
                                    "Életkor": "47",
                                    "db": "7"
                                },
                                {
                                    "Életkor": "48",
                                    "db": "5"
                                },
                                {
                                    "Életkor": "49",
                                    "db": "7"
                                },
                                {
                                    "Életkor": "50",
                                    "db": "10"
                                },
                                {
                                    "Életkor": "51",
                                    "db": "4"
                                },
                                {
                                    "Életkor": "52",
                                    "db": "4"
                                },
                                {
                                    "Életkor": "53",
                                    "db": "4"
                                },
                                {
                                    "Életkor": "54",
                                    "db": "5"
                                },
                                {
                                    "Életkor": "55",
                                    "db": "4"
                                },
                                {
                                    "Életkor": "56",
                                    "db": "8"
                                },
                                {
                                    "Életkor": "57",
                                    "db": "7"
                                },
                                {
                                    "Életkor": "58",
                                    "db": "8"
                                }
                            ]
                        },
                        "text/html": [
                            "<table>",
                            "<tr><th>Életkor</th><th>db</th></tr>",
                            "<tr><td>27</td><td>1</td></tr>",
                            "<tr><td>28</td><td>12</td></tr>",
                            "<tr><td>29</td><td>7</td></tr>",
                            "<tr><td>30</td><td>6</td></tr>",
                            "<tr><td>31</td><td>3</td></tr>",
                            "<tr><td>32</td><td>5</td></tr>",
                            "<tr><td>33</td><td>4</td></tr>",
                            "<tr><td>34</td><td>6</td></tr>",
                            "<tr><td>35</td><td>8</td></tr>",
                            "<tr><td>36</td><td>7</td></tr>",
                            "<tr><td>37</td><td>6</td></tr>",
                            "<tr><td>38</td><td>5</td></tr>",
                            "<tr><td>39</td><td>9</td></tr>",
                            "<tr><td>40</td><td>6</td></tr>",
                            "<tr><td>41</td><td>8</td></tr>",
                            "<tr><td>42</td><td>8</td></tr>",
                            "<tr><td>43</td><td>4</td></tr>",
                            "<tr><td>44</td><td>4</td></tr>",
                            "<tr><td>45</td><td>7</td></tr>",
                            "<tr><td>46</td><td>7</td></tr>",
                            "<tr><td>47</td><td>7</td></tr>",
                            "<tr><td>48</td><td>5</td></tr>",
                            "<tr><td>49</td><td>7</td></tr>",
                            "<tr><td>50</td><td>10</td></tr>",
                            "<tr><td>51</td><td>4</td></tr>",
                            "<tr><td>52</td><td>4</td></tr>",
                            "<tr><td>53</td><td>4</td></tr>",
                            "<tr><td>54</td><td>5</td></tr>",
                            "<tr><td>55</td><td>4</td></tr>",
                            "<tr><td>56</td><td>8</td></tr>",
                            "<tr><td>57</td><td>7</td></tr>",
                            "<tr><td>58</td><td>8</td></tr>",
                            "</table>"
                        ]
                    }
                }
            ],
            "execution_count": 12
        },
        {
            "cell_type": "markdown",
            "source": [
                ""
            ],
            "metadata": {
                "azdata_cell_guid": "1fcf5ce8-9783-4e52-adc0-98d18a3c0354"
            }
        },
        {
            "cell_type": "code",
            "source": [
                "-- 2. feladat\r\n",
                "\r\n",
                "SELECT sza.SZALLAS_NEV,\r\n",
                "       szo.SZOBA_ID,\r\n",
                "       COUNT(f.SZOBA_FK) AS 'Foglalások száma'\r\n",
                "FROM Szoba szo JOIN szallashely sza ON szo.SZALLAS_FK=sza.SZALLAS_ID\r\n",
                "               LEFT JOIN Foglalas f ON szo.SZOBA_ID=f.SZOBA_FK\r\n",
                "GROUP BY sza.SZALLAS_NEV, szo.SZOBA_ID\r\n",
                "HAVING COUNT(f.SZOBA_FK) > 0"
            ],
            "metadata": {
                "azdata_cell_guid": "1c9b2d16-0c09-4fc5-a69d-e6d575023f81",
                "language": "sql"
            },
            "outputs": [
                {
                    "output_type": "display_data",
                    "data": {
                        "text/html": "Warning: Null value is eliminated by an aggregate or other SET operation."
                    },
                    "metadata": {}
                },
                {
                    "output_type": "display_data",
                    "data": {
                        "text/html": "(197 rows affected)"
                    },
                    "metadata": {}
                },
                {
                    "output_type": "display_data",
                    "data": {
                        "text/html": "Total execution time: 00:00:00.011"
                    },
                    "metadata": {}
                },
                {
                    "output_type": "execute_result",
                    "metadata": {},
                    "execution_count": 11,
                    "data": {
                        "application/vnd.dataresource+json": {
                            "schema": {
                                "fields": [
                                    {
                                        "name": "SZALLAS_NEV"
                                    },
                                    {
                                        "name": "SZOBA_ID"
                                    },
                                    {
                                        "name": "Foglalások száma"
                                    }
                                ]
                            },
                            "data": [
                                {
                                    "SZALLAS_NEV": "Sába-Ház",
                                    "SZOBA_ID": "1",
                                    "Foglalások száma": "8"
                                },
                                {
                                    "SZALLAS_NEV": "Sába-Ház",
                                    "SZOBA_ID": "2",
                                    "Foglalások száma": "4"
                                },
                                {
                                    "SZALLAS_NEV": "Sába-Ház",
                                    "SZOBA_ID": "3",
                                    "Foglalások száma": "8"
                                },
                                {
                                    "SZALLAS_NEV": "Sába-Ház",
                                    "SZOBA_ID": "4",
                                    "Foglalások száma": "6"
                                },
                                {
                                    "SZALLAS_NEV": "Sába-Ház",
                                    "SZOBA_ID": "5",
                                    "Foglalások száma": "4"
                                },
                                {
                                    "SZALLAS_NEV": "Sába-Ház",
                                    "SZOBA_ID": "6",
                                    "Foglalások száma": "6"
                                },
                                {
                                    "SZALLAS_NEV": "Sába-Ház",
                                    "SZOBA_ID": "7",
                                    "Foglalások száma": "6"
                                },
                                {
                                    "SZALLAS_NEV": "Sába-Ház",
                                    "SZOBA_ID": "8",
                                    "Foglalások száma": "5"
                                },
                                {
                                    "SZALLAS_NEV": "Sába-Ház",
                                    "SZOBA_ID": "9",
                                    "Foglalások száma": "6"
                                },
                                {
                                    "SZALLAS_NEV": "Sába-Ház",
                                    "SZOBA_ID": "10",
                                    "Foglalások száma": "4"
                                },
                                {
                                    "SZALLAS_NEV": "Sába-Ház",
                                    "SZOBA_ID": "11",
                                    "Foglalások száma": "4"
                                },
                                {
                                    "SZALLAS_NEV": "Sába-Ház",
                                    "SZOBA_ID": "12",
                                    "Foglalások száma": "9"
                                },
                                {
                                    "SZALLAS_NEV": "Családi Ház",
                                    "SZOBA_ID": "13",
                                    "Foglalások száma": "4"
                                },
                                {
                                    "SZALLAS_NEV": "Családi Ház",
                                    "SZOBA_ID": "14",
                                    "Foglalások száma": "3"
                                },
                                {
                                    "SZALLAS_NEV": "Családi Ház",
                                    "SZOBA_ID": "15",
                                    "Foglalások száma": "6"
                                },
                                {
                                    "SZALLAS_NEV": "Családi Ház",
                                    "SZOBA_ID": "16",
                                    "Foglalások száma": "5"
                                },
                                {
                                    "SZALLAS_NEV": "Fortuna Apartman",
                                    "SZOBA_ID": "17",
                                    "Foglalások száma": "6"
                                },
                                {
                                    "SZALLAS_NEV": "Fortuna Apartman",
                                    "SZOBA_ID": "18",
                                    "Foglalások száma": "6"
                                },
                                {
                                    "SZALLAS_NEV": "Fortuna Apartman",
                                    "SZOBA_ID": "19",
                                    "Foglalások száma": "6"
                                },
                                {
                                    "SZALLAS_NEV": "Fortuna Apartman",
                                    "SZOBA_ID": "20",
                                    "Foglalások száma": "5"
                                },
                                {
                                    "SZALLAS_NEV": "Fortuna Apartman",
                                    "SZOBA_ID": "21",
                                    "Foglalások száma": "4"
                                },
                                {
                                    "SZALLAS_NEV": "Fortuna Apartman",
                                    "SZOBA_ID": "22",
                                    "Foglalások száma": "6"
                                },
                                {
                                    "SZALLAS_NEV": "Fortuna Apartman",
                                    "SZOBA_ID": "23",
                                    "Foglalások száma": "3"
                                },
                                {
                                    "SZALLAS_NEV": "Fortuna Apartman",
                                    "SZOBA_ID": "24",
                                    "Foglalások száma": "3"
                                },
                                {
                                    "SZALLAS_NEV": "Fortuna panzió",
                                    "SZOBA_ID": "25",
                                    "Foglalások száma": "2"
                                },
                                {
                                    "SZALLAS_NEV": "Fortuna panzió",
                                    "SZOBA_ID": "26",
                                    "Foglalások száma": "2"
                                },
                                {
                                    "SZALLAS_NEV": "Fortuna panzió",
                                    "SZOBA_ID": "27",
                                    "Foglalások száma": "7"
                                },
                                {
                                    "SZALLAS_NEV": "Fortuna panzió",
                                    "SZOBA_ID": "28",
                                    "Foglalások száma": "6"
                                },
                                {
                                    "SZALLAS_NEV": "Fortuna panzió",
                                    "SZOBA_ID": "29",
                                    "Foglalások száma": "6"
                                },
                                {
                                    "SZALLAS_NEV": "Fortuna panzió",
                                    "SZOBA_ID": "30",
                                    "Foglalások száma": "3"
                                },
                                {
                                    "SZALLAS_NEV": "Fortuna panzió",
                                    "SZOBA_ID": "31",
                                    "Foglalások száma": "3"
                                },
                                {
                                    "SZALLAS_NEV": "Fortuna panzió",
                                    "SZOBA_ID": "32",
                                    "Foglalások száma": "1"
                                },
                                {
                                    "SZALLAS_NEV": "Fortuna panzió",
                                    "SZOBA_ID": "33",
                                    "Foglalások száma": "6"
                                },
                                {
                                    "SZALLAS_NEV": "Fortuna panzió",
                                    "SZOBA_ID": "34",
                                    "Foglalások száma": "4"
                                },
                                {
                                    "SZALLAS_NEV": "Fortuna panzió",
                                    "SZOBA_ID": "35",
                                    "Foglalások száma": "9"
                                },
                                {
                                    "SZALLAS_NEV": "Fortuna panzió",
                                    "SZOBA_ID": "36",
                                    "Foglalások száma": "6"
                                },
                                {
                                    "SZALLAS_NEV": "Fortuna panzió",
                                    "SZOBA_ID": "37",
                                    "Foglalások száma": "3"
                                },
                                {
                                    "SZALLAS_NEV": "Fortuna panzió",
                                    "SZOBA_ID": "38",
                                    "Foglalások száma": "8"
                                },
                                {
                                    "SZALLAS_NEV": "Fortuna panzió",
                                    "SZOBA_ID": "39",
                                    "Foglalások száma": "7"
                                },
                                {
                                    "SZALLAS_NEV": "Fortuna Panzió",
                                    "SZOBA_ID": "40",
                                    "Foglalások száma": "4"
                                },
                                {
                                    "SZALLAS_NEV": "Fortuna Panzió",
                                    "SZOBA_ID": "41",
                                    "Foglalások száma": "2"
                                },
                                {
                                    "SZALLAS_NEV": "Fortuna Panzió",
                                    "SZOBA_ID": "42",
                                    "Foglalások száma": "6"
                                },
                                {
                                    "SZALLAS_NEV": "Fortuna Panzió",
                                    "SZOBA_ID": "43",
                                    "Foglalások száma": "8"
                                },
                                {
                                    "SZALLAS_NEV": "Fortuna Panzió",
                                    "SZOBA_ID": "44",
                                    "Foglalások száma": "6"
                                },
                                {
                                    "SZALLAS_NEV": "Fortuna Panzió",
                                    "SZOBA_ID": "45",
                                    "Foglalások száma": "5"
                                },
                                {
                                    "SZALLAS_NEV": "Fortuna Panzió",
                                    "SZOBA_ID": "46",
                                    "Foglalások száma": "4"
                                },
                                {
                                    "SZALLAS_NEV": "Fortuna Panzió",
                                    "SZOBA_ID": "47",
                                    "Foglalások száma": "2"
                                },
                                {
                                    "SZALLAS_NEV": "Fortuna Panzió",
                                    "SZOBA_ID": "48",
                                    "Foglalások száma": "9"
                                },
                                {
                                    "SZALLAS_NEV": "Fortuna Panzió",
                                    "SZOBA_ID": "49",
                                    "Foglalások száma": "7"
                                },
                                {
                                    "SZALLAS_NEV": "Kentaur Hotel",
                                    "SZOBA_ID": "50",
                                    "Foglalások száma": "4"
                                },
                                {
                                    "SZALLAS_NEV": "Kentaur Hotel",
                                    "SZOBA_ID": "51",
                                    "Foglalások száma": "5"
                                },
                                {
                                    "SZALLAS_NEV": "Kentaur Hotel",
                                    "SZOBA_ID": "52",
                                    "Foglalások száma": "5"
                                },
                                {
                                    "SZALLAS_NEV": "Kentaur Hotel",
                                    "SZOBA_ID": "53",
                                    "Foglalások száma": "2"
                                },
                                {
                                    "SZALLAS_NEV": "Kentaur Hotel",
                                    "SZOBA_ID": "54",
                                    "Foglalások száma": "6"
                                },
                                {
                                    "SZALLAS_NEV": "Kentaur Hotel",
                                    "SZOBA_ID": "55",
                                    "Foglalások száma": "8"
                                },
                                {
                                    "SZALLAS_NEV": "Kentaur Hotel",
                                    "SZOBA_ID": "56",
                                    "Foglalások száma": "2"
                                },
                                {
                                    "SZALLAS_NEV": "Kentaur Hotel",
                                    "SZOBA_ID": "57",
                                    "Foglalások száma": "4"
                                },
                                {
                                    "SZALLAS_NEV": "Kentaur Hotel",
                                    "SZOBA_ID": "58",
                                    "Foglalások száma": "13"
                                },
                                {
                                    "SZALLAS_NEV": "Kentaur Hotel",
                                    "SZOBA_ID": "59",
                                    "Foglalások száma": "7"
                                },
                                {
                                    "SZALLAS_NEV": "Kentaur Hotel",
                                    "SZOBA_ID": "60",
                                    "Foglalások száma": "1"
                                },
                                {
                                    "SZALLAS_NEV": "Kentaur Hotel",
                                    "SZOBA_ID": "61",
                                    "Foglalások száma": "5"
                                },
                                {
                                    "SZALLAS_NEV": "Kentaur Hotel",
                                    "SZOBA_ID": "62",
                                    "Foglalások száma": "5"
                                },
                                {
                                    "SZALLAS_NEV": "Kentaur Hotel",
                                    "SZOBA_ID": "63",
                                    "Foglalások száma": "4"
                                },
                                {
                                    "SZALLAS_NEV": "Kentaur Hotel",
                                    "SZOBA_ID": "64",
                                    "Foglalások száma": "6"
                                },
                                {
                                    "SZALLAS_NEV": "Kentaur Hotel",
                                    "SZOBA_ID": "65",
                                    "Foglalások száma": "1"
                                },
                                {
                                    "SZALLAS_NEV": "Kentaur Hotel",
                                    "SZOBA_ID": "66",
                                    "Foglalások száma": "4"
                                },
                                {
                                    "SZALLAS_NEV": "Kentaur Hotel",
                                    "SZOBA_ID": "67",
                                    "Foglalások száma": "6"
                                },
                                {
                                    "SZALLAS_NEV": "Kentaur Hotel",
                                    "SZOBA_ID": "68",
                                    "Foglalások száma": "3"
                                },
                                {
                                    "SZALLAS_NEV": "Kentaur Hotel",
                                    "SZOBA_ID": "69",
                                    "Foglalások száma": "4"
                                },
                                {
                                    "SZALLAS_NEV": "Kentaur Hotel",
                                    "SZOBA_ID": "70",
                                    "Foglalások száma": "11"
                                },
                                {
                                    "SZALLAS_NEV": "Kentaur Hotel",
                                    "SZOBA_ID": "71",
                                    "Foglalások száma": "3"
                                },
                                {
                                    "SZALLAS_NEV": "Kentaur Hotel",
                                    "SZOBA_ID": "72",
                                    "Foglalások száma": "4"
                                },
                                {
                                    "SZALLAS_NEV": "Kentaur Hotel",
                                    "SZOBA_ID": "73",
                                    "Foglalások száma": "4"
                                },
                                {
                                    "SZALLAS_NEV": "Kentaur Hotel",
                                    "SZOBA_ID": "74",
                                    "Foglalások száma": "9"
                                },
                                {
                                    "SZALLAS_NEV": "Kentaur Hotel",
                                    "SZOBA_ID": "75",
                                    "Foglalások száma": "3"
                                },
                                {
                                    "SZALLAS_NEV": "Kentaur Hotel",
                                    "SZOBA_ID": "76",
                                    "Foglalások száma": "3"
                                },
                                {
                                    "SZALLAS_NEV": "Kentaur Hotel",
                                    "SZOBA_ID": "77",
                                    "Foglalások száma": "6"
                                },
                                {
                                    "SZALLAS_NEV": "Kentaur Hotel",
                                    "SZOBA_ID": "78",
                                    "Foglalások száma": "6"
                                },
                                {
                                    "SZALLAS_NEV": "Kentaur Hotel",
                                    "SZOBA_ID": "79",
                                    "Foglalások száma": "5"
                                },
                                {
                                    "SZALLAS_NEV": "Kentaur Hotel",
                                    "SZOBA_ID": "80",
                                    "Foglalások száma": "7"
                                },
                                {
                                    "SZALLAS_NEV": "Kentaur Hotel",
                                    "SZOBA_ID": "81",
                                    "Foglalások száma": "5"
                                },
                                {
                                    "SZALLAS_NEV": "Kentaur Hotel",
                                    "SZOBA_ID": "82",
                                    "Foglalások száma": "6"
                                },
                                {
                                    "SZALLAS_NEV": "Kentaur Hotel",
                                    "SZOBA_ID": "83",
                                    "Foglalások száma": "8"
                                },
                                {
                                    "SZALLAS_NEV": "Kentaur Hotel",
                                    "SZOBA_ID": "84",
                                    "Foglalások száma": "4"
                                },
                                {
                                    "SZALLAS_NEV": "Szieszta Apartmanház",
                                    "SZOBA_ID": "85",
                                    "Foglalások száma": "4"
                                },
                                {
                                    "SZALLAS_NEV": "Szieszta Apartmanház",
                                    "SZOBA_ID": "86",
                                    "Foglalások száma": "5"
                                },
                                {
                                    "SZALLAS_NEV": "Szieszta Apartmanház",
                                    "SZOBA_ID": "87",
                                    "Foglalások száma": "5"
                                },
                                {
                                    "SZALLAS_NEV": "Szieszta Apartmanház",
                                    "SZOBA_ID": "88",
                                    "Foglalások száma": "8"
                                },
                                {
                                    "SZALLAS_NEV": "Szieszta Apartmanház",
                                    "SZOBA_ID": "89",
                                    "Foglalások száma": "8"
                                },
                                {
                                    "SZALLAS_NEV": "Szieszta Apartmanház",
                                    "SZOBA_ID": "90",
                                    "Foglalások száma": "4"
                                },
                                {
                                    "SZALLAS_NEV": "Hotel Három Hattyú",
                                    "SZOBA_ID": "91",
                                    "Foglalások száma": "4"
                                },
                                {
                                    "SZALLAS_NEV": "Hotel Három Hattyú",
                                    "SZOBA_ID": "92",
                                    "Foglalások száma": "6"
                                },
                                {
                                    "SZALLAS_NEV": "Hotel Három Hattyú",
                                    "SZOBA_ID": "93",
                                    "Foglalások száma": "5"
                                },
                                {
                                    "SZALLAS_NEV": "Hotel Három Hattyú",
                                    "SZOBA_ID": "94",
                                    "Foglalások száma": "10"
                                },
                                {
                                    "SZALLAS_NEV": "Hotel Három Hattyú",
                                    "SZOBA_ID": "95",
                                    "Foglalások száma": "4"
                                },
                                {
                                    "SZALLAS_NEV": "Hotel Három Hattyú",
                                    "SZOBA_ID": "96",
                                    "Foglalások száma": "7"
                                },
                                {
                                    "SZALLAS_NEV": "Hotel Három Hattyú",
                                    "SZOBA_ID": "97",
                                    "Foglalások száma": "7"
                                },
                                {
                                    "SZALLAS_NEV": "Hotel Három Hattyú",
                                    "SZOBA_ID": "98",
                                    "Foglalások száma": "4"
                                },
                                {
                                    "SZALLAS_NEV": "Hotel Három Hattyú",
                                    "SZOBA_ID": "99",
                                    "Foglalások száma": "5"
                                },
                                {
                                    "SZALLAS_NEV": "Hotel Három Hattyú",
                                    "SZOBA_ID": "100",
                                    "Foglalások száma": "4"
                                },
                                {
                                    "SZALLAS_NEV": "Hotel Három Hattyú",
                                    "SZOBA_ID": "101",
                                    "Foglalások száma": "3"
                                },
                                {
                                    "SZALLAS_NEV": "Hotel Három Hattyú",
                                    "SZOBA_ID": "102",
                                    "Foglalások száma": "2"
                                },
                                {
                                    "SZALLAS_NEV": "Hotel Három Hattyú",
                                    "SZOBA_ID": "103",
                                    "Foglalások száma": "4"
                                },
                                {
                                    "SZALLAS_NEV": "Hotel Három Hattyú",
                                    "SZOBA_ID": "104",
                                    "Foglalások száma": "4"
                                },
                                {
                                    "SZALLAS_NEV": "Hotel Három Hattyú",
                                    "SZOBA_ID": "105",
                                    "Foglalások száma": "2"
                                },
                                {
                                    "SZALLAS_NEV": "Hotel Három Hattyú",
                                    "SZOBA_ID": "106",
                                    "Foglalások száma": "6"
                                },
                                {
                                    "SZALLAS_NEV": "Hotel Három Hattyú",
                                    "SZOBA_ID": "107",
                                    "Foglalások száma": "5"
                                },
                                {
                                    "SZALLAS_NEV": "Hotel Három Hattyú",
                                    "SZOBA_ID": "108",
                                    "Foglalások száma": "2"
                                },
                                {
                                    "SZALLAS_NEV": "Hotel Három Hattyú",
                                    "SZOBA_ID": "109",
                                    "Foglalások száma": "7"
                                },
                                {
                                    "SZALLAS_NEV": "Hotel Három Hattyú",
                                    "SZOBA_ID": "110",
                                    "Foglalások száma": "8"
                                },
                                {
                                    "SZALLAS_NEV": "Hotel Három Hattyú",
                                    "SZOBA_ID": "111",
                                    "Foglalások száma": "5"
                                },
                                {
                                    "SZALLAS_NEV": "Hotel Három Hattyú",
                                    "SZOBA_ID": "112",
                                    "Foglalások száma": "5"
                                },
                                {
                                    "SZALLAS_NEV": "Hotel Három Hattyú",
                                    "SZOBA_ID": "113",
                                    "Foglalások száma": "5"
                                },
                                {
                                    "SZALLAS_NEV": "Hotel Három Hattyú",
                                    "SZOBA_ID": "114",
                                    "Foglalások száma": "4"
                                },
                                {
                                    "SZALLAS_NEV": "Hotel Három Hattyú",
                                    "SZOBA_ID": "115",
                                    "Foglalások száma": "7"
                                },
                                {
                                    "SZALLAS_NEV": "Hotel Három Hattyú",
                                    "SZOBA_ID": "116",
                                    "Foglalások száma": "2"
                                },
                                {
                                    "SZALLAS_NEV": "Hotel Három Hattyú",
                                    "SZOBA_ID": "117",
                                    "Foglalások száma": "8"
                                },
                                {
                                    "SZALLAS_NEV": "Hotel Három Hattyú",
                                    "SZOBA_ID": "118",
                                    "Foglalások száma": "7"
                                },
                                {
                                    "SZALLAS_NEV": "Hotel Három Hattyú",
                                    "SZOBA_ID": "119",
                                    "Foglalások száma": "5"
                                },
                                {
                                    "SZALLAS_NEV": "Hotel Három Hattyú",
                                    "SZOBA_ID": "120",
                                    "Foglalások száma": "6"
                                },
                                {
                                    "SZALLAS_NEV": "Hotel Három Hattyú",
                                    "SZOBA_ID": "121",
                                    "Foglalások száma": "8"
                                },
                                {
                                    "SZALLAS_NEV": "Hotel Három Hattyú",
                                    "SZOBA_ID": "122",
                                    "Foglalások száma": "9"
                                },
                                {
                                    "SZALLAS_NEV": "Hotel Három Hattyú",
                                    "SZOBA_ID": "123",
                                    "Foglalások száma": "5"
                                },
                                {
                                    "SZALLAS_NEV": "Hotel Három Hattyú",
                                    "SZOBA_ID": "124",
                                    "Foglalások száma": "6"
                                },
                                {
                                    "SZALLAS_NEV": "Hotel Három Hattyú",
                                    "SZOBA_ID": "125",
                                    "Foglalások száma": "1"
                                },
                                {
                                    "SZALLAS_NEV": "Hotel Három Hattyú",
                                    "SZOBA_ID": "126",
                                    "Foglalások száma": "6"
                                },
                                {
                                    "SZALLAS_NEV": "Hotel Három Hattyú",
                                    "SZOBA_ID": "127",
                                    "Foglalások száma": "7"
                                },
                                {
                                    "SZALLAS_NEV": "Hotel Három Hattyú",
                                    "SZOBA_ID": "128",
                                    "Foglalások száma": "5"
                                },
                                {
                                    "SZALLAS_NEV": "Hotel Három Hattyú",
                                    "SZOBA_ID": "129",
                                    "Foglalások száma": "4"
                                },
                                {
                                    "SZALLAS_NEV": "Jáde panzió",
                                    "SZOBA_ID": "130",
                                    "Foglalások száma": "6"
                                },
                                {
                                    "SZALLAS_NEV": "Jáde panzió",
                                    "SZOBA_ID": "131",
                                    "Foglalások száma": "5"
                                },
                                {
                                    "SZALLAS_NEV": "Jáde panzió",
                                    "SZOBA_ID": "132",
                                    "Foglalások száma": "6"
                                },
                                {
                                    "SZALLAS_NEV": "Jáde panzió",
                                    "SZOBA_ID": "133",
                                    "Foglalások száma": "6"
                                },
                                {
                                    "SZALLAS_NEV": "Jáde panzió",
                                    "SZOBA_ID": "134",
                                    "Foglalások száma": "6"
                                },
                                {
                                    "SZALLAS_NEV": "Lagúna Hotel",
                                    "SZOBA_ID": "135",
                                    "Foglalások száma": "3"
                                },
                                {
                                    "SZALLAS_NEV": "Lagúna Hotel",
                                    "SZOBA_ID": "136",
                                    "Foglalások száma": "3"
                                },
                                {
                                    "SZALLAS_NEV": "Lagúna Hotel",
                                    "SZOBA_ID": "137",
                                    "Foglalások száma": "6"
                                },
                                {
                                    "SZALLAS_NEV": "Lagúna Hotel",
                                    "SZOBA_ID": "138",
                                    "Foglalások száma": "7"
                                },
                                {
                                    "SZALLAS_NEV": "Lagúna Hotel",
                                    "SZOBA_ID": "139",
                                    "Foglalások száma": "7"
                                },
                                {
                                    "SZALLAS_NEV": "Lagúna Hotel",
                                    "SZOBA_ID": "140",
                                    "Foglalások száma": "8"
                                },
                                {
                                    "SZALLAS_NEV": "Lagúna Hotel",
                                    "SZOBA_ID": "141",
                                    "Foglalások száma": "6"
                                },
                                {
                                    "SZALLAS_NEV": "Lagúna Hotel",
                                    "SZOBA_ID": "142",
                                    "Foglalások száma": "2"
                                },
                                {
                                    "SZALLAS_NEV": "Lagúna Hotel",
                                    "SZOBA_ID": "143",
                                    "Foglalások száma": "7"
                                },
                                {
                                    "SZALLAS_NEV": "Lagúna Hotel",
                                    "SZOBA_ID": "144",
                                    "Foglalások száma": "5"
                                },
                                {
                                    "SZALLAS_NEV": "Lagúna Hotel",
                                    "SZOBA_ID": "145",
                                    "Foglalások száma": "6"
                                },
                                {
                                    "SZALLAS_NEV": "Lagúna Hotel",
                                    "SZOBA_ID": "146",
                                    "Foglalások száma": "6"
                                },
                                {
                                    "SZALLAS_NEV": "Lagúna Hotel",
                                    "SZOBA_ID": "147",
                                    "Foglalások száma": "1"
                                },
                                {
                                    "SZALLAS_NEV": "Lagúna Hotel",
                                    "SZOBA_ID": "148",
                                    "Foglalások száma": "6"
                                },
                                {
                                    "SZALLAS_NEV": "Lagúna Hotel",
                                    "SZOBA_ID": "149",
                                    "Foglalások száma": "7"
                                },
                                {
                                    "SZALLAS_NEV": "Lagúna Hotel",
                                    "SZOBA_ID": "150",
                                    "Foglalások száma": "6"
                                },
                                {
                                    "SZALLAS_NEV": "Lagúna Hotel",
                                    "SZOBA_ID": "151",
                                    "Foglalások száma": "3"
                                },
                                {
                                    "SZALLAS_NEV": "Lagúna Hotel",
                                    "SZOBA_ID": "152",
                                    "Foglalások száma": "4"
                                },
                                {
                                    "SZALLAS_NEV": "Lagúna Hotel",
                                    "SZOBA_ID": "153",
                                    "Foglalások száma": "5"
                                },
                                {
                                    "SZALLAS_NEV": "Lagúna Hotel",
                                    "SZOBA_ID": "154",
                                    "Foglalások száma": "5"
                                },
                                {
                                    "SZALLAS_NEV": "Lagúna Hotel",
                                    "SZOBA_ID": "155",
                                    "Foglalások száma": "5"
                                },
                                {
                                    "SZALLAS_NEV": "Lagúna Hotel",
                                    "SZOBA_ID": "156",
                                    "Foglalások száma": "7"
                                },
                                {
                                    "SZALLAS_NEV": "Lagúna Hotel",
                                    "SZOBA_ID": "157",
                                    "Foglalások száma": "5"
                                },
                                {
                                    "SZALLAS_NEV": "Lagúna Hotel",
                                    "SZOBA_ID": "158",
                                    "Foglalások száma": "3"
                                },
                                {
                                    "SZALLAS_NEV": "Partiszél Vendégház",
                                    "SZOBA_ID": "160",
                                    "Foglalások száma": "5"
                                },
                                {
                                    "SZALLAS_NEV": "Partiszél Vendégház",
                                    "SZOBA_ID": "161",
                                    "Foglalások száma": "6"
                                },
                                {
                                    "SZALLAS_NEV": "Partiszél Vendégház",
                                    "SZOBA_ID": "162",
                                    "Foglalások száma": "3"
                                },
                                {
                                    "SZALLAS_NEV": "Partiszél Vendégház",
                                    "SZOBA_ID": "163",
                                    "Foglalások száma": "7"
                                },
                                {
                                    "SZALLAS_NEV": "Partiszél Vendégház",
                                    "SZOBA_ID": "164",
                                    "Foglalások száma": "5"
                                },
                                {
                                    "SZALLAS_NEV": "Gold Hotel",
                                    "SZOBA_ID": "165",
                                    "Foglalások száma": "7"
                                },
                                {
                                    "SZALLAS_NEV": "Gold Hotel",
                                    "SZOBA_ID": "166",
                                    "Foglalások száma": "3"
                                },
                                {
                                    "SZALLAS_NEV": "Gold Hotel",
                                    "SZOBA_ID": "167",
                                    "Foglalások száma": "2"
                                },
                                {
                                    "SZALLAS_NEV": "Gold Hotel",
                                    "SZOBA_ID": "168",
                                    "Foglalások száma": "5"
                                },
                                {
                                    "SZALLAS_NEV": "Gold Hotel",
                                    "SZOBA_ID": "169",
                                    "Foglalások száma": "6"
                                },
                                {
                                    "SZALLAS_NEV": "Gold Hotel",
                                    "SZOBA_ID": "170",
                                    "Foglalások száma": "5"
                                },
                                {
                                    "SZALLAS_NEV": "Gold Hotel",
                                    "SZOBA_ID": "171",
                                    "Foglalások száma": "5"
                                },
                                {
                                    "SZALLAS_NEV": "Gold Hotel",
                                    "SZOBA_ID": "172",
                                    "Foglalások száma": "9"
                                },
                                {
                                    "SZALLAS_NEV": "Gold Hotel",
                                    "SZOBA_ID": "173",
                                    "Foglalások száma": "4"
                                },
                                {
                                    "SZALLAS_NEV": "Gold Hotel",
                                    "SZOBA_ID": "174",
                                    "Foglalások száma": "4"
                                },
                                {
                                    "SZALLAS_NEV": "Gold Hotel",
                                    "SZOBA_ID": "175",
                                    "Foglalások száma": "5"
                                },
                                {
                                    "SZALLAS_NEV": "Gold Hotel",
                                    "SZOBA_ID": "176",
                                    "Foglalások száma": "6"
                                },
                                {
                                    "SZALLAS_NEV": "Gold Hotel",
                                    "SZOBA_ID": "177",
                                    "Foglalások száma": "4"
                                },
                                {
                                    "SZALLAS_NEV": "Gold Hotel",
                                    "SZOBA_ID": "178",
                                    "Foglalások száma": "4"
                                },
                                {
                                    "SZALLAS_NEV": "Gold Hotel",
                                    "SZOBA_ID": "179",
                                    "Foglalások száma": "3"
                                },
                                {
                                    "SZALLAS_NEV": "Gold Hotel",
                                    "SZOBA_ID": "180",
                                    "Foglalások száma": "3"
                                },
                                {
                                    "SZALLAS_NEV": "Gold Hotel",
                                    "SZOBA_ID": "181",
                                    "Foglalások száma": "6"
                                },
                                {
                                    "SZALLAS_NEV": "Gold Hotel",
                                    "SZOBA_ID": "182",
                                    "Foglalások száma": "12"
                                },
                                {
                                    "SZALLAS_NEV": "Gold Hotel",
                                    "SZOBA_ID": "183",
                                    "Foglalások száma": "4"
                                },
                                {
                                    "SZALLAS_NEV": "Gold Hotel",
                                    "SZOBA_ID": "184",
                                    "Foglalások száma": "4"
                                },
                                {
                                    "SZALLAS_NEV": "Gold Hotel",
                                    "SZOBA_ID": "185",
                                    "Foglalások száma": "12"
                                },
                                {
                                    "SZALLAS_NEV": "Gold Hotel",
                                    "SZOBA_ID": "186",
                                    "Foglalások száma": "4"
                                },
                                {
                                    "SZALLAS_NEV": "Gold Hotel",
                                    "SZOBA_ID": "187",
                                    "Foglalások száma": "7"
                                },
                                {
                                    "SZALLAS_NEV": "Gold Hotel",
                                    "SZOBA_ID": "188",
                                    "Foglalások száma": "6"
                                },
                                {
                                    "SZALLAS_NEV": "Gold Hotel",
                                    "SZOBA_ID": "189",
                                    "Foglalások száma": "5"
                                },
                                {
                                    "SZALLAS_NEV": "Gold Hotel",
                                    "SZOBA_ID": "190",
                                    "Foglalások száma": "5"
                                },
                                {
                                    "SZALLAS_NEV": "Gold Hotel",
                                    "SZOBA_ID": "191",
                                    "Foglalások száma": "5"
                                },
                                {
                                    "SZALLAS_NEV": "Gold Hotel",
                                    "SZOBA_ID": "192",
                                    "Foglalások száma": "2"
                                },
                                {
                                    "SZALLAS_NEV": "Gold Hotel",
                                    "SZOBA_ID": "193",
                                    "Foglalások száma": "7"
                                },
                                {
                                    "SZALLAS_NEV": "Gold Hotel",
                                    "SZOBA_ID": "194",
                                    "Foglalások száma": "1"
                                },
                                {
                                    "SZALLAS_NEV": "Gold Hotel",
                                    "SZOBA_ID": "195",
                                    "Foglalások száma": "6"
                                },
                                {
                                    "SZALLAS_NEV": "Gold Hotel",
                                    "SZOBA_ID": "196",
                                    "Foglalások száma": "4"
                                },
                                {
                                    "SZALLAS_NEV": "Gold Hotel",
                                    "SZOBA_ID": "197",
                                    "Foglalások száma": "6"
                                },
                                {
                                    "SZALLAS_NEV": "Gold Hotel",
                                    "SZOBA_ID": "198",
                                    "Foglalások száma": "8"
                                }
                            ]
                        },
                        "text/html": [
                            "<table>",
                            "<tr><th>SZALLAS_NEV</th><th>SZOBA_ID</th><th>Foglalások száma</th></tr>",
                            "<tr><td>Sába-Ház</td><td>1</td><td>8</td></tr>",
                            "<tr><td>Sába-Ház</td><td>2</td><td>4</td></tr>",
                            "<tr><td>Sába-Ház</td><td>3</td><td>8</td></tr>",
                            "<tr><td>Sába-Ház</td><td>4</td><td>6</td></tr>",
                            "<tr><td>Sába-Ház</td><td>5</td><td>4</td></tr>",
                            "<tr><td>Sába-Ház</td><td>6</td><td>6</td></tr>",
                            "<tr><td>Sába-Ház</td><td>7</td><td>6</td></tr>",
                            "<tr><td>Sába-Ház</td><td>8</td><td>5</td></tr>",
                            "<tr><td>Sába-Ház</td><td>9</td><td>6</td></tr>",
                            "<tr><td>Sába-Ház</td><td>10</td><td>4</td></tr>",
                            "<tr><td>Sába-Ház</td><td>11</td><td>4</td></tr>",
                            "<tr><td>Sába-Ház</td><td>12</td><td>9</td></tr>",
                            "<tr><td>Családi Ház</td><td>13</td><td>4</td></tr>",
                            "<tr><td>Családi Ház</td><td>14</td><td>3</td></tr>",
                            "<tr><td>Családi Ház</td><td>15</td><td>6</td></tr>",
                            "<tr><td>Családi Ház</td><td>16</td><td>5</td></tr>",
                            "<tr><td>Fortuna Apartman</td><td>17</td><td>6</td></tr>",
                            "<tr><td>Fortuna Apartman</td><td>18</td><td>6</td></tr>",
                            "<tr><td>Fortuna Apartman</td><td>19</td><td>6</td></tr>",
                            "<tr><td>Fortuna Apartman</td><td>20</td><td>5</td></tr>",
                            "<tr><td>Fortuna Apartman</td><td>21</td><td>4</td></tr>",
                            "<tr><td>Fortuna Apartman</td><td>22</td><td>6</td></tr>",
                            "<tr><td>Fortuna Apartman</td><td>23</td><td>3</td></tr>",
                            "<tr><td>Fortuna Apartman</td><td>24</td><td>3</td></tr>",
                            "<tr><td>Fortuna panzió</td><td>25</td><td>2</td></tr>",
                            "<tr><td>Fortuna panzió</td><td>26</td><td>2</td></tr>",
                            "<tr><td>Fortuna panzió</td><td>27</td><td>7</td></tr>",
                            "<tr><td>Fortuna panzió</td><td>28</td><td>6</td></tr>",
                            "<tr><td>Fortuna panzió</td><td>29</td><td>6</td></tr>",
                            "<tr><td>Fortuna panzió</td><td>30</td><td>3</td></tr>",
                            "<tr><td>Fortuna panzió</td><td>31</td><td>3</td></tr>",
                            "<tr><td>Fortuna panzió</td><td>32</td><td>1</td></tr>",
                            "<tr><td>Fortuna panzió</td><td>33</td><td>6</td></tr>",
                            "<tr><td>Fortuna panzió</td><td>34</td><td>4</td></tr>",
                            "<tr><td>Fortuna panzió</td><td>35</td><td>9</td></tr>",
                            "<tr><td>Fortuna panzió</td><td>36</td><td>6</td></tr>",
                            "<tr><td>Fortuna panzió</td><td>37</td><td>3</td></tr>",
                            "<tr><td>Fortuna panzió</td><td>38</td><td>8</td></tr>",
                            "<tr><td>Fortuna panzió</td><td>39</td><td>7</td></tr>",
                            "<tr><td>Fortuna Panzió</td><td>40</td><td>4</td></tr>",
                            "<tr><td>Fortuna Panzió</td><td>41</td><td>2</td></tr>",
                            "<tr><td>Fortuna Panzió</td><td>42</td><td>6</td></tr>",
                            "<tr><td>Fortuna Panzió</td><td>43</td><td>8</td></tr>",
                            "<tr><td>Fortuna Panzió</td><td>44</td><td>6</td></tr>",
                            "<tr><td>Fortuna Panzió</td><td>45</td><td>5</td></tr>",
                            "<tr><td>Fortuna Panzió</td><td>46</td><td>4</td></tr>",
                            "<tr><td>Fortuna Panzió</td><td>47</td><td>2</td></tr>",
                            "<tr><td>Fortuna Panzió</td><td>48</td><td>9</td></tr>",
                            "<tr><td>Fortuna Panzió</td><td>49</td><td>7</td></tr>",
                            "<tr><td>Kentaur Hotel</td><td>50</td><td>4</td></tr>",
                            "<tr><td>Kentaur Hotel</td><td>51</td><td>5</td></tr>",
                            "<tr><td>Kentaur Hotel</td><td>52</td><td>5</td></tr>",
                            "<tr><td>Kentaur Hotel</td><td>53</td><td>2</td></tr>",
                            "<tr><td>Kentaur Hotel</td><td>54</td><td>6</td></tr>",
                            "<tr><td>Kentaur Hotel</td><td>55</td><td>8</td></tr>",
                            "<tr><td>Kentaur Hotel</td><td>56</td><td>2</td></tr>",
                            "<tr><td>Kentaur Hotel</td><td>57</td><td>4</td></tr>",
                            "<tr><td>Kentaur Hotel</td><td>58</td><td>13</td></tr>",
                            "<tr><td>Kentaur Hotel</td><td>59</td><td>7</td></tr>",
                            "<tr><td>Kentaur Hotel</td><td>60</td><td>1</td></tr>",
                            "<tr><td>Kentaur Hotel</td><td>61</td><td>5</td></tr>",
                            "<tr><td>Kentaur Hotel</td><td>62</td><td>5</td></tr>",
                            "<tr><td>Kentaur Hotel</td><td>63</td><td>4</td></tr>",
                            "<tr><td>Kentaur Hotel</td><td>64</td><td>6</td></tr>",
                            "<tr><td>Kentaur Hotel</td><td>65</td><td>1</td></tr>",
                            "<tr><td>Kentaur Hotel</td><td>66</td><td>4</td></tr>",
                            "<tr><td>Kentaur Hotel</td><td>67</td><td>6</td></tr>",
                            "<tr><td>Kentaur Hotel</td><td>68</td><td>3</td></tr>",
                            "<tr><td>Kentaur Hotel</td><td>69</td><td>4</td></tr>",
                            "<tr><td>Kentaur Hotel</td><td>70</td><td>11</td></tr>",
                            "<tr><td>Kentaur Hotel</td><td>71</td><td>3</td></tr>",
                            "<tr><td>Kentaur Hotel</td><td>72</td><td>4</td></tr>",
                            "<tr><td>Kentaur Hotel</td><td>73</td><td>4</td></tr>",
                            "<tr><td>Kentaur Hotel</td><td>74</td><td>9</td></tr>",
                            "<tr><td>Kentaur Hotel</td><td>75</td><td>3</td></tr>",
                            "<tr><td>Kentaur Hotel</td><td>76</td><td>3</td></tr>",
                            "<tr><td>Kentaur Hotel</td><td>77</td><td>6</td></tr>",
                            "<tr><td>Kentaur Hotel</td><td>78</td><td>6</td></tr>",
                            "<tr><td>Kentaur Hotel</td><td>79</td><td>5</td></tr>",
                            "<tr><td>Kentaur Hotel</td><td>80</td><td>7</td></tr>",
                            "<tr><td>Kentaur Hotel</td><td>81</td><td>5</td></tr>",
                            "<tr><td>Kentaur Hotel</td><td>82</td><td>6</td></tr>",
                            "<tr><td>Kentaur Hotel</td><td>83</td><td>8</td></tr>",
                            "<tr><td>Kentaur Hotel</td><td>84</td><td>4</td></tr>",
                            "<tr><td>Szieszta Apartmanház</td><td>85</td><td>4</td></tr>",
                            "<tr><td>Szieszta Apartmanház</td><td>86</td><td>5</td></tr>",
                            "<tr><td>Szieszta Apartmanház</td><td>87</td><td>5</td></tr>",
                            "<tr><td>Szieszta Apartmanház</td><td>88</td><td>8</td></tr>",
                            "<tr><td>Szieszta Apartmanház</td><td>89</td><td>8</td></tr>",
                            "<tr><td>Szieszta Apartmanház</td><td>90</td><td>4</td></tr>",
                            "<tr><td>Hotel Három Hattyú</td><td>91</td><td>4</td></tr>",
                            "<tr><td>Hotel Három Hattyú</td><td>92</td><td>6</td></tr>",
                            "<tr><td>Hotel Három Hattyú</td><td>93</td><td>5</td></tr>",
                            "<tr><td>Hotel Három Hattyú</td><td>94</td><td>10</td></tr>",
                            "<tr><td>Hotel Három Hattyú</td><td>95</td><td>4</td></tr>",
                            "<tr><td>Hotel Három Hattyú</td><td>96</td><td>7</td></tr>",
                            "<tr><td>Hotel Három Hattyú</td><td>97</td><td>7</td></tr>",
                            "<tr><td>Hotel Három Hattyú</td><td>98</td><td>4</td></tr>",
                            "<tr><td>Hotel Három Hattyú</td><td>99</td><td>5</td></tr>",
                            "<tr><td>Hotel Három Hattyú</td><td>100</td><td>4</td></tr>",
                            "<tr><td>Hotel Három Hattyú</td><td>101</td><td>3</td></tr>",
                            "<tr><td>Hotel Három Hattyú</td><td>102</td><td>2</td></tr>",
                            "<tr><td>Hotel Három Hattyú</td><td>103</td><td>4</td></tr>",
                            "<tr><td>Hotel Három Hattyú</td><td>104</td><td>4</td></tr>",
                            "<tr><td>Hotel Három Hattyú</td><td>105</td><td>2</td></tr>",
                            "<tr><td>Hotel Három Hattyú</td><td>106</td><td>6</td></tr>",
                            "<tr><td>Hotel Három Hattyú</td><td>107</td><td>5</td></tr>",
                            "<tr><td>Hotel Három Hattyú</td><td>108</td><td>2</td></tr>",
                            "<tr><td>Hotel Három Hattyú</td><td>109</td><td>7</td></tr>",
                            "<tr><td>Hotel Három Hattyú</td><td>110</td><td>8</td></tr>",
                            "<tr><td>Hotel Három Hattyú</td><td>111</td><td>5</td></tr>",
                            "<tr><td>Hotel Három Hattyú</td><td>112</td><td>5</td></tr>",
                            "<tr><td>Hotel Három Hattyú</td><td>113</td><td>5</td></tr>",
                            "<tr><td>Hotel Három Hattyú</td><td>114</td><td>4</td></tr>",
                            "<tr><td>Hotel Három Hattyú</td><td>115</td><td>7</td></tr>",
                            "<tr><td>Hotel Három Hattyú</td><td>116</td><td>2</td></tr>",
                            "<tr><td>Hotel Három Hattyú</td><td>117</td><td>8</td></tr>",
                            "<tr><td>Hotel Három Hattyú</td><td>118</td><td>7</td></tr>",
                            "<tr><td>Hotel Három Hattyú</td><td>119</td><td>5</td></tr>",
                            "<tr><td>Hotel Három Hattyú</td><td>120</td><td>6</td></tr>",
                            "<tr><td>Hotel Három Hattyú</td><td>121</td><td>8</td></tr>",
                            "<tr><td>Hotel Három Hattyú</td><td>122</td><td>9</td></tr>",
                            "<tr><td>Hotel Három Hattyú</td><td>123</td><td>5</td></tr>",
                            "<tr><td>Hotel Három Hattyú</td><td>124</td><td>6</td></tr>",
                            "<tr><td>Hotel Három Hattyú</td><td>125</td><td>1</td></tr>",
                            "<tr><td>Hotel Három Hattyú</td><td>126</td><td>6</td></tr>",
                            "<tr><td>Hotel Három Hattyú</td><td>127</td><td>7</td></tr>",
                            "<tr><td>Hotel Három Hattyú</td><td>128</td><td>5</td></tr>",
                            "<tr><td>Hotel Három Hattyú</td><td>129</td><td>4</td></tr>",
                            "<tr><td>Jáde panzió</td><td>130</td><td>6</td></tr>",
                            "<tr><td>Jáde panzió</td><td>131</td><td>5</td></tr>",
                            "<tr><td>Jáde panzió</td><td>132</td><td>6</td></tr>",
                            "<tr><td>Jáde panzió</td><td>133</td><td>6</td></tr>",
                            "<tr><td>Jáde panzió</td><td>134</td><td>6</td></tr>",
                            "<tr><td>Lagúna Hotel</td><td>135</td><td>3</td></tr>",
                            "<tr><td>Lagúna Hotel</td><td>136</td><td>3</td></tr>",
                            "<tr><td>Lagúna Hotel</td><td>137</td><td>6</td></tr>",
                            "<tr><td>Lagúna Hotel</td><td>138</td><td>7</td></tr>",
                            "<tr><td>Lagúna Hotel</td><td>139</td><td>7</td></tr>",
                            "<tr><td>Lagúna Hotel</td><td>140</td><td>8</td></tr>",
                            "<tr><td>Lagúna Hotel</td><td>141</td><td>6</td></tr>",
                            "<tr><td>Lagúna Hotel</td><td>142</td><td>2</td></tr>",
                            "<tr><td>Lagúna Hotel</td><td>143</td><td>7</td></tr>",
                            "<tr><td>Lagúna Hotel</td><td>144</td><td>5</td></tr>",
                            "<tr><td>Lagúna Hotel</td><td>145</td><td>6</td></tr>",
                            "<tr><td>Lagúna Hotel</td><td>146</td><td>6</td></tr>",
                            "<tr><td>Lagúna Hotel</td><td>147</td><td>1</td></tr>",
                            "<tr><td>Lagúna Hotel</td><td>148</td><td>6</td></tr>",
                            "<tr><td>Lagúna Hotel</td><td>149</td><td>7</td></tr>",
                            "<tr><td>Lagúna Hotel</td><td>150</td><td>6</td></tr>",
                            "<tr><td>Lagúna Hotel</td><td>151</td><td>3</td></tr>",
                            "<tr><td>Lagúna Hotel</td><td>152</td><td>4</td></tr>",
                            "<tr><td>Lagúna Hotel</td><td>153</td><td>5</td></tr>",
                            "<tr><td>Lagúna Hotel</td><td>154</td><td>5</td></tr>",
                            "<tr><td>Lagúna Hotel</td><td>155</td><td>5</td></tr>",
                            "<tr><td>Lagúna Hotel</td><td>156</td><td>7</td></tr>",
                            "<tr><td>Lagúna Hotel</td><td>157</td><td>5</td></tr>",
                            "<tr><td>Lagúna Hotel</td><td>158</td><td>3</td></tr>",
                            "<tr><td>Partiszél Vendégház</td><td>160</td><td>5</td></tr>",
                            "<tr><td>Partiszél Vendégház</td><td>161</td><td>6</td></tr>",
                            "<tr><td>Partiszél Vendégház</td><td>162</td><td>3</td></tr>",
                            "<tr><td>Partiszél Vendégház</td><td>163</td><td>7</td></tr>",
                            "<tr><td>Partiszél Vendégház</td><td>164</td><td>5</td></tr>",
                            "<tr><td>Gold Hotel</td><td>165</td><td>7</td></tr>",
                            "<tr><td>Gold Hotel</td><td>166</td><td>3</td></tr>",
                            "<tr><td>Gold Hotel</td><td>167</td><td>2</td></tr>",
                            "<tr><td>Gold Hotel</td><td>168</td><td>5</td></tr>",
                            "<tr><td>Gold Hotel</td><td>169</td><td>6</td></tr>",
                            "<tr><td>Gold Hotel</td><td>170</td><td>5</td></tr>",
                            "<tr><td>Gold Hotel</td><td>171</td><td>5</td></tr>",
                            "<tr><td>Gold Hotel</td><td>172</td><td>9</td></tr>",
                            "<tr><td>Gold Hotel</td><td>173</td><td>4</td></tr>",
                            "<tr><td>Gold Hotel</td><td>174</td><td>4</td></tr>",
                            "<tr><td>Gold Hotel</td><td>175</td><td>5</td></tr>",
                            "<tr><td>Gold Hotel</td><td>176</td><td>6</td></tr>",
                            "<tr><td>Gold Hotel</td><td>177</td><td>4</td></tr>",
                            "<tr><td>Gold Hotel</td><td>178</td><td>4</td></tr>",
                            "<tr><td>Gold Hotel</td><td>179</td><td>3</td></tr>",
                            "<tr><td>Gold Hotel</td><td>180</td><td>3</td></tr>",
                            "<tr><td>Gold Hotel</td><td>181</td><td>6</td></tr>",
                            "<tr><td>Gold Hotel</td><td>182</td><td>12</td></tr>",
                            "<tr><td>Gold Hotel</td><td>183</td><td>4</td></tr>",
                            "<tr><td>Gold Hotel</td><td>184</td><td>4</td></tr>",
                            "<tr><td>Gold Hotel</td><td>185</td><td>12</td></tr>",
                            "<tr><td>Gold Hotel</td><td>186</td><td>4</td></tr>",
                            "<tr><td>Gold Hotel</td><td>187</td><td>7</td></tr>",
                            "<tr><td>Gold Hotel</td><td>188</td><td>6</td></tr>",
                            "<tr><td>Gold Hotel</td><td>189</td><td>5</td></tr>",
                            "<tr><td>Gold Hotel</td><td>190</td><td>5</td></tr>",
                            "<tr><td>Gold Hotel</td><td>191</td><td>5</td></tr>",
                            "<tr><td>Gold Hotel</td><td>192</td><td>2</td></tr>",
                            "<tr><td>Gold Hotel</td><td>193</td><td>7</td></tr>",
                            "<tr><td>Gold Hotel</td><td>194</td><td>1</td></tr>",
                            "<tr><td>Gold Hotel</td><td>195</td><td>6</td></tr>",
                            "<tr><td>Gold Hotel</td><td>196</td><td>4</td></tr>",
                            "<tr><td>Gold Hotel</td><td>197</td><td>6</td></tr>",
                            "<tr><td>Gold Hotel</td><td>198</td><td>8</td></tr>",
                            "</table>"
                        ]
                    }
                }
            ],
            "execution_count": 11
        }
    ]
}